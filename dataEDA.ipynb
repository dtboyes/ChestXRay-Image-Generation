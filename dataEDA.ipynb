{
 "cells": [
  {
   "cell_type": "code",
   "execution_count": 2,
   "metadata": {},
   "outputs": [
    {
     "name": "stdout",
     "output_type": "stream",
     "text": [
      "15000\n",
      "3000\n",
      "Train JSON saved to: /home/minhyekj/chestXray/VinCR/train.json\n",
      "Test JSON saved to: /home/minhyekj/chestXray/VinCR/test.json\n"
     ]
    }
   ],
   "source": [
    "import json\n",
    "import os\n",
    "\n",
    "# Path to the base directory\n",
    "base_dir = \"/home/minhyekj/chestXray/VinCR\"\n",
    "\n",
    "# Paths for the input COCO file and train/test folders\n",
    "vindxr_coco_path = os.path.join(base_dir, \"vindxr_coco.json\")\n",
    "train_images_dir = os.path.join(base_dir, \"jpg\", \"train\")\n",
    "test_images_dir = os.path.join(base_dir, \"jpg\", \"test\")\n",
    "\n",
    "# Output files\n",
    "train_json_path = os.path.join(base_dir, \"train.json\")\n",
    "test_json_path = os.path.join(base_dir, \"test.json\")\n",
    "\n",
    "# Load the COCO file\n",
    "with open(vindxr_coco_path, \"r\") as f:\n",
    "    coco_data = json.load(f)\n",
    "\n",
    "# Get the list of image filenames in train and test folders\n",
    "train_files = set(os.listdir(train_images_dir))\n",
    "test_files = set(os.listdir(test_images_dir))\n",
    "print(len(train_files))\n",
    "print(len(test_files))\n",
    "\n",
    "# Separate the images and annotations based on train/test split\n",
    "train_images, test_images = [], []\n",
    "train_annotations, test_annotations = [], []\n",
    "\n",
    "for image in coco_data[\"images\"]:\n",
    "    if image[\"file_name\"] in train_files:\n",
    "        train_images.append(image)\n",
    "    elif image[\"file_name\"] in test_files:\n",
    "        test_images.append(image)\n",
    "\n",
    "# Map image IDs to annotations\n",
    "image_id_to_annotations = {image[\"id\"]: [] for image in coco_data[\"images\"]}\n",
    "for annotation in coco_data[\"annotations\"]:\n",
    "    image_id_to_annotations[annotation[\"image_id\"]].append(annotation)\n",
    "\n",
    "# Collect annotations for train and test images\n",
    "for image in train_images:\n",
    "    train_annotations.extend(image_id_to_annotations[image[\"id\"]])\n",
    "\n",
    "for image in test_images:\n",
    "    test_annotations.extend(image_id_to_annotations[image[\"id\"]])\n",
    "\n",
    "# Create train and test COCO dictionaries\n",
    "train_coco = {\n",
    "    \"images\": train_images,\n",
    "    \"annotations\": train_annotations,\n",
    "    \"categories\": coco_data.get(\"categories\", []),\n",
    "}\n",
    "\n",
    "test_coco = {\n",
    "    \"images\": test_images,\n",
    "    \"annotations\": test_annotations,\n",
    "    \"categories\": coco_data.get(\"categories\", []),\n",
    "}\n",
    "\n",
    "# Save the train and test COCO JSON files\n",
    "with open(train_json_path, \"w\") as f:\n",
    "    json.dump(train_coco, f, indent=4)\n",
    "\n",
    "with open(test_json_path, \"w\") as f:\n",
    "    json.dump(test_coco, f, indent=4)\n",
    "\n",
    "print(f\"Train JSON saved to: {train_json_path}\")\n",
    "print(f\"Test JSON saved to: {test_json_path}\")\n"
   ]
  },
  {
   "cell_type": "code",
   "execution_count": 3,
   "metadata": {},
   "outputs": [
    {
     "name": "stdout",
     "output_type": "stream",
     "text": [
      "Train2 JSON saved to: /home/minhyekj/chestXray/VinCR/train2.json\n",
      "Test2 JSON saved to: /home/minhyekj/chestXray/VinCR/test2.json\n"
     ]
    }
   ],
   "source": [
    "import json\n",
    "import random\n",
    "import os\n",
    "\n",
    "# 경로 설정\n",
    "base_dir = \"/home/minhyekj/chestXray/VinCR\"\n",
    "train_json_path = os.path.join(base_dir, \"train.json\")\n",
    "train2_json_path = os.path.join(base_dir, \"train2.json\")\n",
    "test2_json_path = os.path.join(base_dir, \"test2.json\")\n",
    "\n",
    "# 랜덤 시드 설정 (재현 가능성을 위해)\n",
    "random.seed(42)\n",
    "\n",
    "# train.json 로드\n",
    "with open(train_json_path, \"r\") as f:\n",
    "    train_data = json.load(f)\n",
    "\n",
    "# train.json에서 이미지와 관련된 정보를 가져오기\n",
    "train_images = train_data[\"images\"]\n",
    "train_annotations = train_data[\"annotations\"]\n",
    "categories = train_data.get(\"categories\", [])\n",
    "\n",
    "# 3000개의 이미지를 랜덤 샘플링하여 test2로 사용\n",
    "test2_images = random.sample(train_images, 3000)\n",
    "\n",
    "# 나머지 이미지는 train2로 사용\n",
    "test2_image_ids = {img[\"id\"] for img in test2_images}\n",
    "train2_images = [img for img in train_images if img[\"id\"] not in test2_image_ids]\n",
    "\n",
    "# 각 이미지 ID에 해당하는 annotations를 분리\n",
    "test2_annotations = [ann for ann in train_annotations if ann[\"image_id\"] in test2_image_ids]\n",
    "train2_annotations = [ann for ann in train_annotations if ann[\"image_id\"] not in test2_image_ids]\n",
    "\n",
    "# COCO 포맷으로 저장\n",
    "train2_coco = {\n",
    "    \"images\": train2_images,\n",
    "    \"annotations\": train2_annotations,\n",
    "    \"categories\": categories,\n",
    "}\n",
    "\n",
    "test2_coco = {\n",
    "    \"images\": test2_images,\n",
    "    \"annotations\": test2_annotations,\n",
    "    \"categories\": categories,\n",
    "}\n",
    "\n",
    "# train2.json과 test2.json 저장\n",
    "with open(train2_json_path, \"w\") as f:\n",
    "    json.dump(train2_coco, f, indent=4)\n",
    "\n",
    "with open(test2_json_path, \"w\") as f:\n",
    "    json.dump(test2_coco, f, indent=4)\n",
    "\n",
    "print(f\"Train2 JSON saved to: {train2_json_path}\")\n",
    "print(f\"Test2 JSON saved to: {test2_json_path}\")"
   ]
  },
  {
   "cell_type": "code",
   "execution_count": 4,
   "metadata": {},
   "outputs": [
    {
     "name": "stdout",
     "output_type": "stream",
     "text": [
      "이미지 복사가 완료되었습니다.\n",
      "Train2 이미지: /home/minhyekj/chestXray/VinCR/jpg/train2\n",
      "Test2 이미지: /home/minhyekj/chestXray/VinCR/jpg/test2\n"
     ]
    }
   ],
   "source": [
    "import os\n",
    "import json\n",
    "import shutil\n",
    "\n",
    "# 경로 설정\n",
    "base_dir = \"/home/minhyekj/chestXray/VinCR\"\n",
    "jpg_dir = os.path.join(base_dir, \"jpg\", \"train\")  # 기존 train 이미지는 여기 있다고 가정\n",
    "train2_json_path = os.path.join(base_dir, \"train2.json\")\n",
    "test2_json_path = os.path.join(base_dir, \"test2.json\")\n",
    "\n",
    "# 새로 생성할 폴더 경로\n",
    "train2_dir = os.path.join(base_dir, \"jpg\", \"train2\")\n",
    "test2_dir = os.path.join(base_dir, \"jpg\", \"test2\")\n",
    "\n",
    "# 폴더 생성 (이미 존재하면 무시)\n",
    "os.makedirs(train2_dir, exist_ok=True)\n",
    "os.makedirs(test2_dir, exist_ok=True)\n",
    "\n",
    "# train2.json 로드\n",
    "with open(train2_json_path, \"r\") as f:\n",
    "    train2_data = json.load(f)\n",
    "\n",
    "# test2.json 로드\n",
    "with open(test2_json_path, \"r\") as f:\n",
    "    test2_data = json.load(f)\n",
    "\n",
    "# 이미지 복사 함수\n",
    "def copy_images(image_data, source_dir, target_dir):\n",
    "    for image in image_data:\n",
    "        src_path = os.path.join(source_dir, image[\"file_name\"])\n",
    "        dest_path = os.path.join(target_dir, image[\"file_name\"])\n",
    "        if os.path.exists(src_path):  # 파일이 존재하는 경우에만 복사\n",
    "            shutil.copy(src_path, dest_path)\n",
    "        else:\n",
    "            print(f\"파일 누락: {src_path}\")  # 누락된 파일 경고 메시지\n",
    "\n",
    "# train2 이미지를 train2 폴더로 복사\n",
    "copy_images(train2_data[\"images\"], jpg_dir, train2_dir)\n",
    "\n",
    "# test2 이미지를 test2 폴더로 복사\n",
    "copy_images(test2_data[\"images\"], jpg_dir, test2_dir)\n",
    "\n",
    "print(f\"이미지 복사가 완료되었습니다.\")\n",
    "print(f\"Train2 이미지: {train2_dir}\")\n",
    "print(f\"Test2 이미지: {test2_dir}\")"
   ]
  },
  {
   "cell_type": "code",
   "execution_count": 5,
   "metadata": {},
   "outputs": [
    {
     "name": "stdout",
     "output_type": "stream",
     "text": [
      "(1024, 1024)\n"
     ]
    }
   ],
   "source": [
    "from PIL import Image\n",
    "\n",
    "image_path = \"/home/minhyekj/chestXray/VinCR/jpg/train2/f0b8c0d06a7cccc003f214b216673324.jpg\"\n",
    "image = Image.open(image_path)\n",
    "print(image.size)  # This should return (1024, 1024)\n"
   ]
  },
  {
   "cell_type": "code",
   "execution_count": 6,
   "metadata": {},
   "outputs": [
    {
     "data": {
      "text/plain": [
       "{'34e635f644f6d4853776e2d74357b239.jpg': (1024, 1024),\n",
       " 'e0ba9af0459793b1db8b61d44c32fa37.jpg': (1024, 1024),\n",
       " 'adc6f4b5339f7178055838776bf49dd7.jpg': (1024, 1024),\n",
       " '2767502d5b33cf62b97fd2f04ee88c62.jpg': (1024, 1024),\n",
       " '3aaf9082b2fc37d21d61ae532d3112d4.jpg': (1024, 1024),\n",
       " 'c49a36c11ecc7e24d2b0912e68da95ac.jpg': (1024, 1024),\n",
       " '08e3d3783927a15d35137c756c1a7e0b.jpg': (1024, 1024),\n",
       " 'b94aacb47e639df00707eae5332dc629.jpg': (1024, 1024),\n",
       " 'b91b76bcb6e0b005ef98719bd719b488.jpg': (1024, 1024),\n",
       " 'ec675fa2723a03bd4bc753ca149e9022.jpg': (1024, 1024)}"
      ]
     },
     "execution_count": 6,
     "metadata": {},
     "output_type": "execute_result"
    }
   ],
   "source": [
    "from PIL import Image\n",
    "import os\n",
    "\n",
    "# Directory containing the images\n",
    "images_dir = \"/home/minhyekj/chestXray/VinCR/jpg/train2\"\n",
    "\n",
    "# Get the first 10 image files from the directory\n",
    "image_files = [f for f in os.listdir(images_dir) if f.endswith(('.jpg', '.png'))][:10]\n",
    "\n",
    "# Print the size of the first 10 images\n",
    "image_sizes = {}\n",
    "for image_file in image_files:\n",
    "    image_path = os.path.join(images_dir, image_file)\n",
    "    try:\n",
    "        with Image.open(image_path) as img:\n",
    "            image_sizes[image_file] = img.size\n",
    "    except Exception as e:\n",
    "        image_sizes[image_file] = f\"Error: {e}\"\n",
    "\n",
    "image_sizes\n"
   ]
  },
  {
   "cell_type": "code",
   "execution_count": 8,
   "metadata": {},
   "outputs": [
    {
     "name": "stdout",
     "output_type": "stream",
     "text": [
      "Updated annotations saved to /home/minhyekj/chestXray/VinCR/jpg/train3.json\n"
     ]
    }
   ],
   "source": [
    "import json\n",
    "\n",
    "# Paths to the annotation file and output file\n",
    "input_annotation_path = \"/home/minhyekj/chestXray/VinCR/jpg/train2.json\"\n",
    "output_annotation_path = \"/home/minhyekj/chestXray/VinCR/jpg/train3.json\"\n",
    "\n",
    "# Target width and height\n",
    "target_width = 1024\n",
    "target_height = 1024\n",
    "\n",
    "# Load the COCO annotation file\n",
    "with open(input_annotation_path, \"r\") as f:\n",
    "    coco_data = json.load(f)\n",
    "\n",
    "# Update the width and height for all images\n",
    "for image in coco_data.get(\"images\", []):\n",
    "    image[\"width\"] = target_width\n",
    "    image[\"height\"] = target_height\n",
    "\n",
    "# Save the updated annotations to a new file\n",
    "with open(output_annotation_path, \"w\") as f:\n",
    "    json.dump(coco_data, f, indent=4)\n",
    "\n",
    "print(f\"Updated annotations saved to {output_annotation_path}\")\n"
   ]
  }
 ],
 "metadata": {
  "kernelspec": {
   "display_name": "CUT",
   "language": "python",
   "name": "python3"
  },
  "language_info": {
   "codemirror_mode": {
    "name": "ipython",
    "version": 3
   },
   "file_extension": ".py",
   "mimetype": "text/x-python",
   "name": "python",
   "nbconvert_exporter": "python",
   "pygments_lexer": "ipython3",
   "version": "3.6.13"
  }
 },
 "nbformat": 4,
 "nbformat_minor": 2
}
